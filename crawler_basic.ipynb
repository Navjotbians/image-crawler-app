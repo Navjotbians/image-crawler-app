{
 "cells": [
  {
   "cell_type": "markdown",
   "metadata": {},
   "source": [
    "# IMAGE CRAWLER"
   ]
  },
  {
   "cell_type": "code",
   "execution_count": 113,
   "metadata": {},
   "outputs": [],
   "source": [
    "import requests as req\n",
    "from bs4 import *"
   ]
  },
  {
   "cell_type": "code",
   "execution_count": 114,
   "metadata": {},
   "outputs": [],
   "source": [
    "url = \"https://www.airbnb.co.uk/s/Ljubljana--Slovenia/homes?tab_id=home_tab&refinement_paths%5B%5D=%2Fhomes&query=Ljubljana%2C%20Slovenia&place_id=ChIJ0YaYlvUxZUcRIOw_ghz4AAQ&checkin=2020-11-01&checkout=2020-11-08&source=structured_search_input_header&search_type=autocomplete_click\"\n",
    "url2 = \"http://4chan.org/\""
   ]
  },
  {
   "cell_type": "code",
   "execution_count": 115,
   "metadata": {},
   "outputs": [],
   "source": [
    "url3 = '//s.4cdn.org/image/fp/logo-transparent.png'\n",
    "def prepare_url(url3):\n",
    "    import re\n",
    "    if re.match(r'^[\\/]{2}.*', url3):\n",
    "        return f'http:{url3}'\n",
    "    elif re.match(r'^\\/\\w+.*', url3):\n",
    "        return f'{url3}'\n",
    "    return url3"
   ]
  },
  {
   "cell_type": "code",
   "execution_count": 116,
   "metadata": {},
   "outputs": [],
   "source": [
    "## function to get img links\n",
    "def parse_url(url):\n",
    "    ## req will send the request to this link and get the data in text format from this link webpage\n",
    "    request = req.get(url)\n",
    "    ## this will change text into html format\n",
    "    soup = BeautifulSoup(request.text, \"html.parser\")\n",
    "    hrefs = soup.find_all(href=True)\n",
    "    ## grab all img links and append into links list\n",
    "    images = soup.find_all('img')\n",
    "    links = [prepare_url(link[\"src\"]) for link in images]\n",
    "    return links, hrefs\n",
    "    "
   ]
  },
  {
   "cell_type": "code",
   "execution_count": 117,
   "metadata": {},
   "outputs": [
    {
     "data": {
      "text/plain": [
       "['http://s.4cdn.org/image/fp/logo-transparent.png',\n",
       " 'http://i.4cdn.org/v/1619632517631s.jpg',\n",
       " 'http://i.4cdn.org/pw/1619613830649s.jpg',\n",
       " 'http://i.4cdn.org/vr/1618971198188s.jpg',\n",
       " 'http://i.4cdn.org/a/1619627959783s.jpg',\n",
       " 'http://i.4cdn.org/biz/1619613851953s.jpg',\n",
       " 'http://i.4cdn.org/vg/1619180857998s.jpg',\n",
       " 'http://i.4cdn.org/sp/1619605393960s.jpg',\n",
       " 'http://i.4cdn.org/his/1619608067804s.jpg']"
      ]
     },
     "execution_count": 117,
     "metadata": {},
     "output_type": "execute_result"
    }
   ],
   "source": [
    "links, hrefs = parse_url(url2)\n",
    "links"
   ]
  },
  {
   "cell_type": "code",
   "execution_count": 118,
   "metadata": {
    "scrolled": true
   },
   "outputs": [
    {
     "data": {
      "text/plain": [
       "['http://s.4cdn.org/css/frontpage.12.css',\n",
       " 'http://s.4cdn.org/image/favicon.ico',\n",
       " 'http://s.4cdn.org/image/apple-touch-icon-iphone.png',\n",
       " 'http://s.4cdn.org/image/apple-touch-icon-ipad.png',\n",
       " 'http://s.4cdn.org/image/apple-touch-icon-iphone-retina.png',\n",
       " 'http://s.4cdn.org/image/apple-touch-icon-ipad-retina.png',\n",
       " 'http://www.4chan.org/',\n",
       " '#',\n",
       " 'http://boards.4channel.org/a/',\n",
       " 'http://boards.4channel.org/c/',\n",
       " 'http://boards.4channel.org/w/',\n",
       " 'http://boards.4channel.org/m/',\n",
       " 'http://boards.4channel.org/cgl/',\n",
       " 'http://boards.4channel.org/cm/',\n",
       " 'http://boards.4chan.org/f/',\n",
       " 'http://boards.4channel.org/n/',\n",
       " 'http://boards.4channel.org/jp/',\n",
       " 'http://boards.4channel.org/vt/',\n",
       " 'http://boards.4channel.org/v/',\n",
       " 'http://boards.4channel.org/vg/',\n",
       " 'http://boards.4channel.org/vm/',\n",
       " 'http://boards.4channel.org/vmg/',\n",
       " 'http://boards.4channel.org/vp/',\n",
       " 'http://boards.4channel.org/vr/',\n",
       " 'http://boards.4channel.org/vrpg/',\n",
       " 'http://boards.4channel.org/vst/',\n",
       " 'http://boards.4channel.org/co/',\n",
       " 'http://boards.4channel.org/g/',\n",
       " 'http://boards.4channel.org/tv/',\n",
       " 'http://boards.4channel.org/k/',\n",
       " 'http://boards.4channel.org/o/',\n",
       " 'http://boards.4channel.org/an/',\n",
       " 'http://boards.4channel.org/tg/',\n",
       " 'http://boards.4channel.org/sp/',\n",
       " 'http://boards.4channel.org/xs/',\n",
       " 'http://boards.4channel.org/pw/',\n",
       " 'http://boards.4channel.org/sci/',\n",
       " 'http://boards.4channel.org/his/',\n",
       " 'http://boards.4channel.org/int/',\n",
       " 'http://boards.4channel.org/out/',\n",
       " 'http://boards.4channel.org/toy/',\n",
       " 'http://boards.4chan.org/i/',\n",
       " 'http://boards.4channel.org/po/',\n",
       " 'http://boards.4channel.org/p/',\n",
       " 'http://boards.4channel.org/ck/',\n",
       " 'http://boards.4chan.org/ic/',\n",
       " 'http://boards.4chan.org/wg/',\n",
       " 'http://boards.4channel.org/lit/',\n",
       " 'http://boards.4channel.org/mu/',\n",
       " 'http://boards.4channel.org/fa/',\n",
       " 'http://boards.4channel.org/3/',\n",
       " 'http://boards.4channel.org/gd/',\n",
       " 'http://boards.4channel.org/diy/',\n",
       " 'http://boards.4channel.org/wsg/',\n",
       " 'http://boards.4channel.org/qst/',\n",
       " 'http://boards.4channel.org/biz/',\n",
       " 'http://boards.4channel.org/trv/',\n",
       " 'http://boards.4channel.org/fit/',\n",
       " 'http://boards.4channel.org/x/',\n",
       " 'http://boards.4channel.org/adv/',\n",
       " 'http://boards.4channel.org/lgbt/',\n",
       " 'http://boards.4channel.org/mlp/',\n",
       " 'http://boards.4channel.org/news/',\n",
       " 'http://boards.4channel.org/wsr/',\n",
       " 'http://boards.4channel.org/vip/',\n",
       " 'http://boards.4chan.org/b/',\n",
       " 'http://boards.4chan.org/r9k/',\n",
       " 'http://boards.4chan.org/pol/',\n",
       " 'http://boards.4chan.org/bant/',\n",
       " 'http://boards.4chan.org/soc/',\n",
       " 'http://boards.4chan.org/s4s/',\n",
       " 'http://boards.4chan.org/s/',\n",
       " 'http://boards.4chan.org/hc/',\n",
       " 'http://boards.4chan.org/hm/',\n",
       " 'http://boards.4chan.org/h/',\n",
       " 'http://boards.4chan.org/e/',\n",
       " 'http://boards.4chan.org/u/',\n",
       " 'http://boards.4chan.org/d/',\n",
       " 'http://boards.4chan.org/y/',\n",
       " 'http://boards.4chan.org/t/',\n",
       " 'http://boards.4chan.org/hr/',\n",
       " 'http://boards.4chan.org/gif/',\n",
       " 'http://boards.4chan.org/aco/',\n",
       " 'http://boards.4chan.org/r/',\n",
       " 'http://boards.4channel.org/v/thread/553579465',\n",
       " 'http://boards.4channel.org/pw/thread/978710',\n",
       " 'http://boards.4channel.org/vr/thread/7671580',\n",
       " 'http://boards.4channel.org/a/thread/221235796',\n",
       " 'http://boards.4channel.org/biz/thread/34079452',\n",
       " 'http://boards.4channel.org/vg/thread/332902634',\n",
       " 'http://boards.4channel.org/sp/thread/107912982',\n",
       " 'http://boards.4channel.org/his/thread/10993694',\n",
       " '/',\n",
       " '/4channews.php',\n",
       " 'http://blog.4chan.org/',\n",
       " '/faq',\n",
       " '/rules',\n",
       " '/pass',\n",
       " '/advertise',\n",
       " '/press',\n",
       " '/japanese',\n",
       " '/faq#what4chan',\n",
       " '/feedback',\n",
       " '/legal',\n",
       " '/contact']"
      ]
     },
     "execution_count": 118,
     "metadata": {},
     "output_type": "execute_result"
    }
   ],
   "source": [
    "href_links = []\n",
    "for href in hrefs:\n",
    "    href_links.append(prepare_url(href[\"href\"]))\n",
    "href_links"
   ]
  },
  {
   "cell_type": "code",
   "execution_count": null,
   "metadata": {},
   "outputs": [],
   "source": []
  }
 ],
 "metadata": {
  "kernelspec": {
   "display_name": "Python 3",
   "language": "python",
   "name": "python3"
  },
  "language_info": {
   "codemirror_mode": {
    "name": "ipython",
    "version": 3
   },
   "file_extension": ".py",
   "mimetype": "text/x-python",
   "name": "python",
   "nbconvert_exporter": "python",
   "pygments_lexer": "ipython3",
   "version": "3.8.2"
  }
 },
 "nbformat": 4,
 "nbformat_minor": 4
}

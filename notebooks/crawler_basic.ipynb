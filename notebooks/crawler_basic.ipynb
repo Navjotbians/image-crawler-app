{
 "cells": [
  {
   "cell_type": "markdown",
   "metadata": {},
   "source": [
    "# IMAGE CRAWLER"
   ]
  },
  {
   "cell_type": "code",
   "execution_count": 26,
   "metadata": {},
   "outputs": [],
   "source": [
    "import requests as req\n",
    "from bs4 import *"
   ]
  },
  {
   "cell_type": "code",
   "execution_count": 27,
   "metadata": {},
   "outputs": [],
   "source": [
    "url = \"https://www.airbnb.co.uk/s/Ljubljana--Slovenia/homes?tab_id=home_tab&refinement_paths%5B%5D=%2Fhomes&query=Ljubljana%2C%20Slovenia&place_id=ChIJ0YaYlvUxZUcRIOw_ghz4AAQ&checkin=2020-11-01&checkout=2020-11-08&source=structured_search_input_header&search_type=autocomplete_click\""
   ]
  },
  {
   "cell_type": "code",
   "execution_count": 28,
   "metadata": {},
   "outputs": [],
   "source": [
    "## req will send the request to this link and get the data in text format from this link webpage\n",
    "request = req.get(url)"
   ]
  },
  {
   "cell_type": "code",
   "execution_count": 29,
   "metadata": {},
   "outputs": [],
   "source": [
    "## we have this text format of webpage from req.get now we want to parse it in html format. \n",
    "## once we get the html format then only we could get the image links\n",
    "soup = BeautifulSoup(request.text, \"html.parser\") ## this will change text into html format\n",
    "hrefs = soup.find_all(href=True)\n",
    "images = soup.find_all('img')"
   ]
  },
  {
   "cell_type": "code",
   "execution_count": 30,
   "metadata": {},
   "outputs": [
    {
     "data": {
      "text/plain": [
       "['https://a0.muscache.com/im/pictures/c12d27de-d2a0-485c-b70a-a65648f7b596.jpg?im_w=720',\n",
       " 'https://a0.muscache.com/im/pictures/f5d481b3-5451-4e7e-bf70-9efef4ace583.jpg?im_w=720',\n",
       " 'https://a0.muscache.com/im/pictures/d3553d7c-97a2-487e-907f-a238eaaaba39.jpg?im_w=720',\n",
       " 'https://a0.muscache.com/im/pictures/59738627-a049-4cec-9e21-2f31302c011c.jpg?im_w=720',\n",
       " 'https://a0.muscache.com/im/pictures/b53d6945-24a8-4ebd-bd37-9f16f0720c75.jpg?im_w=720',\n",
       " 'https://a0.muscache.com/im/pictures/miso/Hosting-30003240/original/b5572755-b52d-41fc-ba02-bea5782d2f06.png?im_w=720',\n",
       " 'https://a0.muscache.com/im/pictures/ed76f499-b27c-4f82-bb96-7ff540534a22.jpg?im_w=720',\n",
       " 'https://a0.muscache.com/im/pictures/68ef0fea-4760-45bd-9fa0-1ee390e10698.jpg?im_w=720',\n",
       " 'https://a0.muscache.com/im/pictures/59067ed4-8756-4450-8604-e079ea533450.jpg?im_w=720',\n",
       " 'https://a0.muscache.com/im/pictures/fe9b86a1-510e-42b3-a9f0-101d47588249.jpg?im_w=720',\n",
       " 'https://a0.muscache.com/im/pictures/bc3d3c23-f226-47fc-94fa-ad92ae9be7c9.jpg?im_w=720',\n",
       " 'https://a0.muscache.com/im/pictures/2f799111-6fc1-4c98-a3af-b75ae16a9ab9.jpg?im_w=720',\n",
       " 'https://a0.muscache.com/im/pictures/a49c86d7-78ac-4284-86e0-acd159733ea8.jpg?im_w=720',\n",
       " 'https://a0.muscache.com/im/pictures/e34e31c2-f52c-480e-8275-7c91cf038bab.jpg?im_w=720',\n",
       " 'https://a0.muscache.com/im/pictures/fa7d1f92-45c6-46a4-87db-b88e0558c50b.jpg?im_w=720',\n",
       " 'https://a0.muscache.com/im/pictures/a07afa66-64fe-46b4-aeff-dc530879e3c2.jpg?im_w=720',\n",
       " 'https://a0.muscache.com/im/pictures/5eb4eba3-d4a5-42a9-8f76-c2c6f733c359.jpg?im_w=720',\n",
       " 'https://a0.muscache.com/im/pictures/ecb29e46-b2c6-4cf2-b862-0363997bfa38.jpg?im_w=720',\n",
       " 'https://a0.muscache.com/im/pictures/26f63514-691a-4f9a-a2a4-a6dc2a397eba.jpg?im_w=720',\n",
       " 'https://a0.muscache.com/im/pictures/2f7565b6-2a4a-4384-877f-57ec89d8dd64.jpg?im_w=720']"
      ]
     },
     "execution_count": 30,
     "metadata": {},
     "output_type": "execute_result"
    }
   ],
   "source": [
    "## grab link from all_img_links and append into links list\n",
    "links = []\n",
    "for img_link in images:\n",
    "    links.append(img_link['src'])\n",
    "links"
   ]
  },
  {
   "cell_type": "code",
   "execution_count": 51,
   "metadata": {
    "scrolled": true
   },
   "outputs": [
    {
     "name": "stdout",
     "output_type": "stream",
     "text": [
      "/opensearch.xml\n",
      "/manifest.json\n",
      "https://a0.muscache.com/airbnb/static/icons/apple-touch-icon-76x76-3b313d93b1b5823293524b9764352ac9.png\n",
      "https://a0.muscache.com/airbnb/static/icons/apple-touch-icon-76x76-3b313d93b1b5823293524b9764352ac9.png\n",
      "https://a0.muscache.com/airbnb/static/icons/apple-touch-icon-120x120-52b1adb4fe3a8f825fc4b143de12ea4b.png\n",
      "https://a0.muscache.com/airbnb/static/icons/apple-touch-icon-152x152-7b7c6444b63d8b6ebad9dae7169e5ed6.png\n",
      "https://a0.muscache.com/airbnb/static/icons/apple-touch-icon-180x180-bcbe0e3960cd084eb8eaf1353cf3c730.png\n",
      "https://a0.muscache.com/airbnb/static/icons/android-icon-192x192-c0465f9f0380893768972a31a614b670.png\n",
      "https://a0.muscache.com/airbnb/static/logotype_favicon-21cc8e6c6a2cca43f061d2dcabdf6e58.ico\n",
      "https://a0.muscache.com/airbnb/static/icons/airbnb-0611901eac33ccfa5e93d793a2e21f09.svg\n",
      "https://a0.muscache.com/airbnb/static/packages/1940-43c866ca.js\n",
      "https://a0.muscache.com/airbnb/static/packages/niobe-minimalist-client-973063fd.js\n",
      "https://a0.muscache.com/airbnb/static/packages/f8fc-094ac6c7.js\n",
      "https://a0.muscache.com/airbnb/static/packages/niobe-apollo-client-247635f1.js\n",
      "https://a0.muscache.com/airbnb/static/packages/Header-Query-a6938194.js\n",
      "https://a0.muscache.com/airbnb/static/packages/Explore-V3Prepare-ce2ee812.js\n",
      "https://a0.muscache.com/airbnb/static/packages/3e42-2b63d452.js\n",
      "https://a0.muscache.com/airbnb/static/packages/2824-2279e0bb.js\n",
      "https://a0.muscache.com/airbnb/static/packages/b45b-fdf6f4a9.js\n",
      "https://a0.muscache.com/airbnb/static/packages/34b0-1ad8e94d.js\n",
      "https://a0.muscache.com/airbnb/static/packages/7a36-19017208.js\n",
      "https://a0.muscache.com/airbnb/static/packages/8dd3-a8a0ecdb.js\n",
      "https://a0.muscache.com/airbnb/static/packages/8d13-8525b1f1.js\n",
      "https://a0.muscache.com/airbnb/static/packages/db23-e55eaf42.js\n",
      "https://a0.muscache.com/airbnb/static/packages/fde4-f15c8b0d.js\n",
      "https://a0.muscache.com/airbnb/static/packages/b12d-2085a827.js\n",
      "https://a0.muscache.com/airbnb/static/packages/8359-074badbe.js\n",
      "https://a0.muscache.com/airbnb/static/packages/simple-nav-header-1c6e2501.js\n",
      "https://a0.muscache.com/airbnb/static/packages/explore-original_explore_Messages-b1cad35b.js\n",
      "https://a0.muscache.com/airbnb/static/packages/e301-9e4baac1.js\n",
      "https://a0.muscache.com/airbnb/static/packages/dls-CarouselController-7bcbe9a8.js\n",
      "https://a0.muscache.com/airbnb/static/packages/5bb5-47b16504.js\n",
      "https://a0.muscache.com/airbnb/static/packages/a084-93d6f1c6.js\n",
      "https://a0.muscache.com/airbnb/static/packages/9698-a64a926d.js\n",
      "https://a0.muscache.com/airbnb/static/packages/0128-9ecc6086.js\n",
      "https://a0.muscache.com/airbnb/static/packages/2b8e-ab5e354a.js\n",
      "https://a0.muscache.com/airbnb/static/packages/56f9-dc20b99b.js\n",
      "https://a0.muscache.com/airbnb/static/packages/d465-2ac840f4.js\n",
      "https://a0.muscache.com/airbnb/static/packages/4f03-1098b355.js\n",
      "https://a0.muscache.com/airbnb/static/packages/explore-original_explore_Listings-2657e045.js\n",
      "https://a0.muscache.com/airbnb/static/packages/ExploreFooter-HomeSearchFooter-426a6797.js\n",
      "https://a0.muscache.com/airbnb/static/packages/7254-055a2739.js\n",
      "https://a0.muscache.com/airbnb/static/packages/d235-3c788e85.js\n",
      "https://a0.muscache.com/airbnb/static/packages/simple-nav-Footer-d031bb43.js\n",
      "android-app://com.airbnb.android/airbnb/s/Ljubljana--Slovenia\n",
      "https://a0.muscache.com/airbnb/static/packages/dls/dls-lite_cereal-d9f6fdb2a0dd4a18c37f8ee01de8ec3d.css\n",
      "#site-content\n",
      "/\n",
      "/host/homes\n",
      "#simple-header-locale-menu-combined\n",
      "#simple-header-profile-menu\n",
      "/signup_login\n",
      "/login\n",
      "/host/homes\n",
      "/host/experiences?from_nav=1\n",
      "/help\n",
      "#\n",
      "/help/topic/1418/government-travel-restrictions-and-advisories\n",
      "/rooms/49333626?previous_page_section_name=1000&federated_search_id=c195f792-3545-4f02-977a-d366398b8e9d\n",
      "/rooms/30303204?previous_page_section_name=1000&federated_search_id=c195f792-3545-4f02-977a-d366398b8e9d\n",
      "/rooms/4425619?previous_page_section_name=1000&federated_search_id=c195f792-3545-4f02-977a-d366398b8e9d\n",
      "/rooms/41106594?previous_page_section_name=1000&federated_search_id=c195f792-3545-4f02-977a-d366398b8e9d\n",
      "/rooms/34555045?previous_page_section_name=1000&federated_search_id=c195f792-3545-4f02-977a-d366398b8e9d\n",
      "/rooms/30003240?previous_page_section_name=1000&federated_search_id=c195f792-3545-4f02-977a-d366398b8e9d\n",
      "/rooms/21514641?previous_page_section_name=1000&federated_search_id=c195f792-3545-4f02-977a-d366398b8e9d\n",
      "/rooms/44329955?previous_page_section_name=1000&federated_search_id=c195f792-3545-4f02-977a-d366398b8e9d\n",
      "/rooms/24088895?previous_page_section_name=1000&federated_search_id=c195f792-3545-4f02-977a-d366398b8e9d\n",
      "/rooms/14262564?previous_page_section_name=1000&federated_search_id=c195f792-3545-4f02-977a-d366398b8e9d\n",
      "/rooms/7307746?previous_page_section_name=1000&federated_search_id=c195f792-3545-4f02-977a-d366398b8e9d\n",
      "/rooms/37473282?previous_page_section_name=1000&federated_search_id=c195f792-3545-4f02-977a-d366398b8e9d\n",
      "/rooms/38141454?previous_page_section_name=1000&federated_search_id=c195f792-3545-4f02-977a-d366398b8e9d\n",
      "/rooms/14120693?previous_page_section_name=1000&federated_search_id=c195f792-3545-4f02-977a-d366398b8e9d\n",
      "/rooms/31433547?previous_page_section_name=1000&federated_search_id=c195f792-3545-4f02-977a-d366398b8e9d\n",
      "/rooms/17840386?previous_page_section_name=1000&federated_search_id=c195f792-3545-4f02-977a-d366398b8e9d\n",
      "/rooms/40229674?previous_page_section_name=1000&federated_search_id=c195f792-3545-4f02-977a-d366398b8e9d\n",
      "/rooms/24807787?previous_page_section_name=1000&federated_search_id=c195f792-3545-4f02-977a-d366398b8e9d\n",
      "/rooms/37455541?previous_page_section_name=1000&federated_search_id=c195f792-3545-4f02-977a-d366398b8e9d\n",
      "/rooms/31972371?previous_page_section_name=1000&federated_search_id=c195f792-3545-4f02-977a-d366398b8e9d\n",
      "/s/Ljubljana--Slovenia/homes?tab_id=home_tab&refinement_paths%5B%5D=%2Fhomes&source=structured_search_input_header&search_type=pagination&place_id=ChIJ0YaYlvUxZUcRIOw_ghz4AAQ&flexible_trip_dates%5B%5D=june&flexible_trip_dates%5B%5D=may&flexible_trip_lengths%5B%5D=weekend_trip&date_picker_type=calendar&federated_search_session_id=a3c10048-a7c7-4d82-9dad-7894d55a1a23&items_offset=20&section_offset=4\n",
      "/s/Ljubljana--Slovenia/homes?tab_id=home_tab&refinement_paths%5B%5D=%2Fhomes&source=structured_search_input_header&search_type=pagination&place_id=ChIJ0YaYlvUxZUcRIOw_ghz4AAQ&flexible_trip_dates%5B%5D=june&flexible_trip_dates%5B%5D=may&flexible_trip_lengths%5B%5D=weekend_trip&date_picker_type=calendar&federated_search_session_id=a3c10048-a7c7-4d82-9dad-7894d55a1a23&items_offset=40&section_offset=4\n",
      "/s/Ljubljana--Slovenia/homes?tab_id=home_tab&refinement_paths%5B%5D=%2Fhomes&source=structured_search_input_header&search_type=pagination&place_id=ChIJ0YaYlvUxZUcRIOw_ghz4AAQ&flexible_trip_dates%5B%5D=june&flexible_trip_dates%5B%5D=may&flexible_trip_lengths%5B%5D=weekend_trip&date_picker_type=calendar&federated_search_session_id=a3c10048-a7c7-4d82-9dad-7894d55a1a23&items_offset=60&section_offset=4\n",
      "/s/Ljubljana--Slovenia/homes?tab_id=home_tab&refinement_paths%5B%5D=%2Fhomes&source=structured_search_input_header&search_type=pagination&place_id=ChIJ0YaYlvUxZUcRIOw_ghz4AAQ&flexible_trip_dates%5B%5D=june&flexible_trip_dates%5B%5D=may&flexible_trip_lengths%5B%5D=weekend_trip&date_picker_type=calendar&federated_search_session_id=a3c10048-a7c7-4d82-9dad-7894d55a1a23&items_offset=80&section_offset=4\n",
      "/s/Ljubljana--Slovenia/homes?tab_id=home_tab&refinement_paths%5B%5D=%2Fhomes&source=structured_search_input_header&search_type=pagination&place_id=ChIJ0YaYlvUxZUcRIOw_ghz4AAQ&flexible_trip_dates%5B%5D=june&flexible_trip_dates%5B%5D=may&flexible_trip_lengths%5B%5D=weekend_trip&date_picker_type=calendar&federated_search_session_id=a3c10048-a7c7-4d82-9dad-7894d55a1a23&items_offset=280&section_offset=4\n",
      "/s/Ljubljana--Slovenia/homes?tab_id=home_tab&refinement_paths%5B%5D=%2Fhomes&source=structured_search_input_header&search_type=pagination&place_id=ChIJ0YaYlvUxZUcRIOw_ghz4AAQ&flexible_trip_dates%5B%5D=june&flexible_trip_dates%5B%5D=may&flexible_trip_lengths%5B%5D=weekend_trip&date_picker_type=calendar&federated_search_session_id=a3c10048-a7c7-4d82-9dad-7894d55a1a23&items_offset=20&section_offset=4\n",
      "/d/howairbnbworks\n",
      "/press/news\n",
      "https://investors.airbnb.com\n",
      "/plus\n",
      "/luxury\n",
      "https://www.hoteltonight.com/?utm_source_name=Airbnb&utm_campaign_name=Dr_Us_Desktop_Airbnb_Footer\n",
      "/work?s=footer\n",
      "/d/video-stories-hub\n",
      "/careers\n",
      "https://news.airbnb.com/what-makes-airbnb-airbnb\n",
      "/diversity\n",
      "/accessibility\n",
      "/associates?from=footer\n",
      "/d/covid19relief\n",
      "/invite?r=6\n",
      "https://www.airbnb.org?locale=en-GB\n",
      "/host/homes?from_footer=1\n",
      "/d/onlinehost\n",
      "/host/experiences\n",
      "/help/responsible-hosting\n",
      "/resources\n",
      "/help/community?s=footer\n",
      "/d/covidsafety\n",
      "/help?from=footer\n",
      "/help/article/2701/extenuating-circumstances-policy-and-the-coronavirus-covid19\n",
      "/neighbors\n",
      "/trust\n",
      "/account-settings/language\n",
      "/account-settings/currency\n",
      "https://www.facebook.com/airbnb\n",
      "https://twitter.com/airbnb\n",
      "https://instagram.com/airbnb\n",
      "/terms/privacy_policy\n",
      "/terms\n",
      "/sitemaps/v2\n",
      "https://a0.muscache.com/static/uk-modern-slavery-act-statement.pdf\n",
      "/about/company-details\n"
     ]
    }
   ],
   "source": [
    "## grabbing all the links including the image links\n",
    "for href in hrefs:\n",
    "    print(href[\"href\"])"
   ]
  },
  {
   "cell_type": "code",
   "execution_count": 60,
   "metadata": {},
   "outputs": [],
   "source": [
    "## function to get img links\n",
    "def parse_url(url):\n",
    "    request = req.get(url)\n",
    "    soup = BeautifulSoup(request.text, \"html.parser\")\n",
    "    hrefs = soup.find_all(href=True)\n",
    "    images = soup.find_all('img')\n",
    "    links = [link[\"src\"] for link in images]\n",
    "    return links, hrefs\n",
    "    "
   ]
  },
  {
   "cell_type": "code",
   "execution_count": 65,
   "metadata": {},
   "outputs": [
    {
     "data": {
      "text/plain": [
       "['//s.4cdn.org/image/fp/logo-transparent.png',\n",
       " '//i.4cdn.org/a/1619598825449s.jpg',\n",
       " '//i.4cdn.org/vg/1618965877392s.jpg',\n",
       " '//i.4cdn.org/int/1619628245527s.jpg',\n",
       " '//i.4cdn.org/biz/1619631533781s.jpg',\n",
       " '//i.4cdn.org/g/1619524010778s.jpg',\n",
       " '//i.4cdn.org/mlp/1619588691900s.jpg',\n",
       " '//i.4cdn.org/jp/1619369151073s.jpg',\n",
       " '//i.4cdn.org/v/1619625817902s.jpg']"
      ]
     },
     "execution_count": 65,
     "metadata": {},
     "output_type": "execute_result"
    }
   ],
   "source": [
    "links, hrefs = parse_url(\"http://4chan.org/\")\n",
    "links"
   ]
  },
  {
   "cell_type": "code",
   "execution_count": 66,
   "metadata": {
    "scrolled": true
   },
   "outputs": [
    {
     "data": {
      "text/plain": [
       "['//s.4cdn.org/css/frontpage.12.css',\n",
       " '//s.4cdn.org/image/favicon.ico',\n",
       " '//s.4cdn.org/image/apple-touch-icon-iphone.png',\n",
       " '//s.4cdn.org/image/apple-touch-icon-ipad.png',\n",
       " '//s.4cdn.org/image/apple-touch-icon-iphone-retina.png',\n",
       " '//s.4cdn.org/image/apple-touch-icon-ipad-retina.png',\n",
       " '//www.4chan.org/',\n",
       " '#',\n",
       " '//boards.4channel.org/a/',\n",
       " '//boards.4channel.org/c/',\n",
       " '//boards.4channel.org/w/',\n",
       " '//boards.4channel.org/m/',\n",
       " '//boards.4channel.org/cgl/',\n",
       " '//boards.4channel.org/cm/',\n",
       " '//boards.4chan.org/f/',\n",
       " '//boards.4channel.org/n/',\n",
       " '//boards.4channel.org/jp/',\n",
       " '//boards.4channel.org/vt/',\n",
       " '//boards.4channel.org/v/',\n",
       " '//boards.4channel.org/vg/',\n",
       " '//boards.4channel.org/vm/',\n",
       " '//boards.4channel.org/vmg/',\n",
       " '//boards.4channel.org/vp/',\n",
       " '//boards.4channel.org/vr/',\n",
       " '//boards.4channel.org/vrpg/',\n",
       " '//boards.4channel.org/vst/',\n",
       " '//boards.4channel.org/co/',\n",
       " '//boards.4channel.org/g/',\n",
       " '//boards.4channel.org/tv/',\n",
       " '//boards.4channel.org/k/',\n",
       " '//boards.4channel.org/o/',\n",
       " '//boards.4channel.org/an/',\n",
       " '//boards.4channel.org/tg/',\n",
       " '//boards.4channel.org/sp/',\n",
       " '//boards.4channel.org/xs/',\n",
       " '//boards.4channel.org/pw/',\n",
       " '//boards.4channel.org/sci/',\n",
       " '//boards.4channel.org/his/',\n",
       " '//boards.4channel.org/int/',\n",
       " '//boards.4channel.org/out/',\n",
       " '//boards.4channel.org/toy/',\n",
       " '//boards.4chan.org/i/',\n",
       " '//boards.4channel.org/po/',\n",
       " '//boards.4channel.org/p/',\n",
       " '//boards.4channel.org/ck/',\n",
       " '//boards.4chan.org/ic/',\n",
       " '//boards.4chan.org/wg/',\n",
       " '//boards.4channel.org/lit/',\n",
       " '//boards.4channel.org/mu/',\n",
       " '//boards.4channel.org/fa/',\n",
       " '//boards.4channel.org/3/',\n",
       " '//boards.4channel.org/gd/',\n",
       " '//boards.4channel.org/diy/',\n",
       " '//boards.4channel.org/wsg/',\n",
       " '//boards.4channel.org/qst/',\n",
       " '//boards.4channel.org/biz/',\n",
       " '//boards.4channel.org/trv/',\n",
       " '//boards.4channel.org/fit/',\n",
       " '//boards.4channel.org/x/',\n",
       " '//boards.4channel.org/adv/',\n",
       " '//boards.4channel.org/lgbt/',\n",
       " '//boards.4channel.org/mlp/',\n",
       " '//boards.4channel.org/news/',\n",
       " '//boards.4channel.org/wsr/',\n",
       " '//boards.4channel.org/vip/',\n",
       " '//boards.4chan.org/b/',\n",
       " '//boards.4chan.org/r9k/',\n",
       " '//boards.4chan.org/pol/',\n",
       " '//boards.4chan.org/bant/',\n",
       " '//boards.4chan.org/soc/',\n",
       " '//boards.4chan.org/s4s/',\n",
       " '//boards.4chan.org/s/',\n",
       " '//boards.4chan.org/hc/',\n",
       " '//boards.4chan.org/hm/',\n",
       " '//boards.4chan.org/h/',\n",
       " '//boards.4chan.org/e/',\n",
       " '//boards.4chan.org/u/',\n",
       " '//boards.4chan.org/d/',\n",
       " '//boards.4chan.org/y/',\n",
       " '//boards.4chan.org/t/',\n",
       " '//boards.4chan.org/hr/',\n",
       " '//boards.4chan.org/gif/',\n",
       " '//boards.4chan.org/aco/',\n",
       " '//boards.4chan.org/r/',\n",
       " '//boards.4channel.org/a/thread/221218871',\n",
       " '//boards.4channel.org/vg/thread/332616261',\n",
       " '//boards.4channel.org/int/thread/143960865',\n",
       " '//boards.4channel.org/biz/thread/34095449',\n",
       " '//boards.4channel.org/g/thread/81346760',\n",
       " '//boards.4channel.org/mlp/thread/36920068',\n",
       " '//boards.4channel.org/jp/thread/34437745',\n",
       " '//boards.4channel.org/v/thread/553567991',\n",
       " '/',\n",
       " '/4channews.php',\n",
       " 'http://blog.4chan.org/',\n",
       " '/faq',\n",
       " '/rules',\n",
       " '/pass',\n",
       " '/advertise',\n",
       " '/press',\n",
       " '/japanese',\n",
       " '/faq#what4chan',\n",
       " '/feedback',\n",
       " '/legal',\n",
       " '/contact']"
      ]
     },
     "execution_count": 66,
     "metadata": {},
     "output_type": "execute_result"
    }
   ],
   "source": [
    "href_links = []\n",
    "for href in hrefs:\n",
    "    prepare_url(href[\"href\"])\n",
    "    href_links.append(href[\"href\"])\n",
    "href_links"
   ]
  },
  {
   "cell_type": "code",
   "execution_count": 67,
   "metadata": {},
   "outputs": [],
   "source": [
    "def prepare_url(url):\n",
    "    import re\n",
    "    if re.match(r'^[\\/]{2}.*', url):\n",
    "        return f'http:{url}'\n",
    "    elif re.match(r'^\\/\\w+.*', url):\n",
    "        return f'{url}'\n",
    "    return url"
   ]
  },
  {
   "cell_type": "code",
   "execution_count": 68,
   "metadata": {},
   "outputs": [
    {
     "data": {
      "text/plain": [
       "'https://a0.muscache.com/airbnb/static/icons/apple-touch-icon-76x76-3b313d93b1b5823293524b9764352ac9.png'"
      ]
     },
     "execution_count": 68,
     "metadata": {},
     "output_type": "execute_result"
    }
   ],
   "source": [
    "prepare_url('https://a0.muscache.com/airbnb/static/icons/apple-touch-icon-76x76-3b313d93b1b5823293524b9764352ac9.png')"
   ]
  },
  {
   "cell_type": "code",
   "execution_count": null,
   "metadata": {},
   "outputs": [],
   "source": []
  }
 ],
 "metadata": {
  "kernelspec": {
   "display_name": "Python 3",
   "language": "python",
   "name": "python3"
  },
  "language_info": {
   "codemirror_mode": {
    "name": "ipython",
    "version": 3
   },
   "file_extension": ".py",
   "mimetype": "text/x-python",
   "name": "python",
   "nbconvert_exporter": "python",
   "pygments_lexer": "ipython3",
   "version": "3.8.2"
  }
 },
 "nbformat": 4,
 "nbformat_minor": 4
}
